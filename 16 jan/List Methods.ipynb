{
 "cells": [
  {
   "cell_type": "markdown",
   "id": "c11b0af7",
   "metadata": {},
   "source": [
    "# List Methods"
   ]
  },
  {
   "cell_type": "code",
   "execution_count": null,
   "id": "a8c2c5af",
   "metadata": {},
   "outputs": [],
   "source": [
    "a=[1,2,3,]"
   ]
  },
  {
   "cell_type": "markdown",
   "id": "a1209318",
   "metadata": {},
   "source": [
    "for \n",
    "if else\n",
    "range\n",
    "list range\n",
    "while\n"
   ]
  }
 ],
 "metadata": {
  "kernelspec": {
   "display_name": "Python 3 (ipykernel)",
   "language": "python",
   "name": "python3"
  },
  "language_info": {
   "codemirror_mode": {
    "name": "ipython",
    "version": 3
   },
   "file_extension": ".py",
   "mimetype": "text/x-python",
   "name": "python",
   "nbconvert_exporter": "python",
   "pygments_lexer": "ipython3",
   "version": "3.9.7"
  }
 },
 "nbformat": 4,
 "nbformat_minor": 5
}
